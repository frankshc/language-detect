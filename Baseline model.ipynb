{
 "cells": [
  {
   "cell_type": "code",
   "execution_count": 15,
   "metadata": {},
   "outputs": [],
   "source": [
    "import numpy as np\n",
    "import pandas as pd\n",
    "import os\n",
    "import re"
   ]
  },
  {
   "cell_type": "code",
   "execution_count": 2,
   "metadata": {},
   "outputs": [],
   "source": [
    "KEYWORDS_DICT = {\n",
    "    'go': ['break', 'default', 'func', 'interface', 'select', 'case', 'defer', 'go', 'map', 'struct', 'chan', 'else',\n",
    "           'goto', 'package', 'switch', 'const', 'fallthrough', 'if', 'range', 'type', 'continue', 'for', 'import',\n",
    "           'return', 'var'],\n",
    "    'java': [\"abstract\", \"assert\", \"boolean\", \"break\", \"byte\", \"case\", \"catch\", \"char\", \"class\", \"const\", \"continue\",\n",
    "             \"default\", \"do\", \"double\", \"else\", \"extends\", \"false\", \"final\", \"finally\", \"float\", \"for\", \"goto\",\n",
    "             \"if\", \"implements\", \"import\", \"instanceof\", \"int\", \"interface\", \"long\", \"native\", \"new\", \"null\",\n",
    "             \"package\", \"private\", \"protected\", \"public\", \"return\", \"short\", \"static\", \"strictfp\", \"super\", \"switch\",\n",
    "             \"synchronized\", \"this\", \"throw\", \"throws\", \"transient\", \"true\", \"try\", \"void\", \"volatile\", \"while\"],\n",
    "    'javascript' : ['break', 'do', 'instanceof', 'typeof', 'case', 'else', 'new', 'var', 'catch', 'finally', 'return',\n",
    "                    'void', 'continue', 'for', 'switch', 'while', 'debugger', 'function', 'this', 'with', 'default',\n",
    "                    'if', 'throw', 'delete', 'in', 'try', 'abstract', 'export', 'interface', 'static', 'boolean',\n",
    "                    'extends', 'long', 'super', 'byte', 'final', 'native', 'synchronized', 'char', 'float', 'package',\n",
    "                    'throws', 'class', 'goto', 'private', 'transient', 'const', 'implements', 'protected', 'volatile',\n",
    "                    'double', 'import', 'public', 'enum', 'int', 'short'],\n",
    "    'php' : ['__halt_compiler', 'abstract', 'and', 'array', 'as', 'break', 'callable', 'case', 'catch', 'class',\n",
    "             'clone', 'const', 'continue', 'declare', 'default', 'die', 'do', 'echo', 'else', 'elseif', 'empty',\n",
    "             'enddeclare', 'endfor', 'endforeach', 'endif', 'endswitch', 'endwhile', 'eval', 'exit', 'extends',\n",
    "             'final', 'for', 'foreach', 'function', 'global', 'goto', 'if', 'implements', 'include', 'include_once',\n",
    "             'instanceof', 'insteadof', 'interface', 'isset', 'list', 'namespace', 'new', 'or', 'print', 'private',\n",
    "             'protected', 'public', 'require', 'require_once', 'return', 'static', 'switch', 'throw', 'trait', 'try',\n",
    "             'unset', 'use', 'var', 'while', 'xor'], \n",
    "    'python' : ['and', 'as', 'assert', 'break', 'class', 'continue', 'def', 'del', 'elif', 'else', 'except', 'exec',\n",
    "                'finally', 'for', 'from', 'global', 'if', 'import', 'in', 'is', 'lambda', 'not', 'or', 'pass',\n",
    "                'print', 'raise', 'return', 'try', 'while', 'with', 'yield'], \n",
    "    'ruby' : [\"BEGIN\", \"END\", \"__FILE__\", \"__LINE__\", \"alias\", \"and\", \"begin\", \"break\", \"case\", \"class\", \"def\",\n",
    "              \"defined?\", \"do\", \"else\", \"elsif\", \"end\", \"ensure\", \"false\", \"for\", \"if\", \"in\", \"module\", \"next\", \"nil\",\n",
    "              \"not\", \"or\", \"redo\", \"rescue\", \"retry\", \"return\", \"self\", \"super\", \"then\", \"true\", \"undef\", \"unless\",\n",
    "              \"until\", \"when\", \"while\", \"yield\"]\n",
    "}"
   ]
  },
  {
   "cell_type": "code",
   "execution_count": 3,
   "metadata": {},
   "outputs": [],
   "source": [
    "# Count keywords based on string search\n",
    "def count_keyword_occurence(file):\n",
    "    #print(file)\n",
    "    lang_occur_count = {'go':0, 'java':0, 'javascript':0, 'php':0, 'python':0, 'ruby':0}\n",
    "    for language in KEYWORDS_DICT:\n",
    "        for word in KEYWORDS_DICT[language]:\n",
    "            lang_occur_count[language] = lang_occur_count[language] + file.count(word)\n",
    "            #if file.count(word) > 0:\n",
    "                #print(word, language, file.count(word))\n",
    "    return lang_occur_count"
   ]
  },
  {
   "cell_type": "code",
   "execution_count": 13,
   "metadata": {},
   "outputs": [],
   "source": [
    "# Count keywords based on regex search -sophisticated model\n",
    "def count_keyword_occurence_regex(file):\n",
    "    lang_occur_count = {'go':0, 'java':0, 'javascript':0, 'php':0, 'python':0, 'ruby':0}\n",
    "    for language in KEYWORDS_DICT:\n",
    "        for word in KEYWORDS_DICT[language]:\n",
    "            word_count = sum(1 for _ in re.finditer(r'\\b%s\\b' % re.escape(word), file))\n",
    "            lang_occur_count[language] = lang_occur_count[language] + word_count\n",
    "    return lang_occur_count"
   ]
  },
  {
   "cell_type": "code",
   "execution_count": 18,
   "metadata": {},
   "outputs": [],
   "source": [
    "def get_performance(keyword_function, base_file_path):\n",
    "    # y axis of the confusion matrix are the real values\n",
    "    confusion_matrix = pd.DataFrame({\n",
    "        'real_y':['go', 'java', 'javascript', 'php', 'python', 'ruby'],\n",
    "        'go' :[0] * 6,\n",
    "        'java': [0] * 6,\n",
    "        'javascript' : [0] * 6,\n",
    "        'php': [0] * 6,\n",
    "        'python': [0] * 6, \n",
    "        'ruby': [0] * 6\n",
    "    })\n",
    "\n",
    "    test_data_file_dirs = os.listdir(base_file_path)\n",
    "    # loop through all 6 folders\n",
    "    for file_dir in test_data_file_dirs:\n",
    "        print(file_dir)\n",
    "        if file_dir in ['go', 'java', 'javascript', 'php', 'python', 'ruby']:\n",
    "            # loop through text files in each folder\n",
    "            for test_file in os.listdir(os.path.join(base_file_path, file_dir)):\n",
    "                file  = open(os.path.join(base_file_path, file_dir, test_file), 'r').read()\n",
    "\n",
    "                # count how many times each keyword occurs\n",
    "                language_keyword_counts = keyword_function(file)\n",
    "\n",
    "                # predict language based on highest occurence of keywords\n",
    "                pred_language = max(language_keyword_counts, key=language_keyword_counts.get)\n",
    "\n",
    "                # update confusion matrix\n",
    "                cm_real, cm_pred = confusion_matrix['real_y'] == file_dir, pred_language\n",
    "                confusion_matrix.loc[cm_real, cm_pred] = confusion_matrix.loc[cm_real, cm_pred] + 1\n",
    "    \n",
    "    confusion_matrix_array = np.asarray(confusion_matrix[['go', 'java', 'javascript', 'php', 'python', 'ruby']])\n",
    "    return confusion_matrix\n",
    "#, np.trace(confusion_matrix_array)/sum(sum(confusion_matrix_array)), np.diag(confusion_matrix_array)/1000"
   ]
  },
  {
   "cell_type": "code",
   "execution_count": 19,
   "metadata": {},
   "outputs": [
    {
     "name": "stdout",
     "output_type": "stream",
     "text": [
      "Performance on full function files using string search\n",
      "go\n",
      "python\n",
      "java\n",
      "php\n",
      "javascript\n",
      "ruby\n"
     ]
    },
    {
     "data": {
      "text/html": [
       "<div>\n",
       "<style scoped>\n",
       "    .dataframe tbody tr th:only-of-type {\n",
       "        vertical-align: middle;\n",
       "    }\n",
       "\n",
       "    .dataframe tbody tr th {\n",
       "        vertical-align: top;\n",
       "    }\n",
       "\n",
       "    .dataframe thead th {\n",
       "        text-align: right;\n",
       "    }\n",
       "</style>\n",
       "<table border=\"1\" class=\"dataframe\">\n",
       "  <thead>\n",
       "    <tr style=\"text-align: right;\">\n",
       "      <th></th>\n",
       "      <th>real_y</th>\n",
       "      <th>go</th>\n",
       "      <th>java</th>\n",
       "      <th>javascript</th>\n",
       "      <th>php</th>\n",
       "      <th>python</th>\n",
       "      <th>ruby</th>\n",
       "    </tr>\n",
       "  </thead>\n",
       "  <tbody>\n",
       "    <tr>\n",
       "      <th>0</th>\n",
       "      <td>go</td>\n",
       "      <td>69</td>\n",
       "      <td>7</td>\n",
       "      <td>153</td>\n",
       "      <td>157</td>\n",
       "      <td>315</td>\n",
       "      <td>299</td>\n",
       "    </tr>\n",
       "    <tr>\n",
       "      <th>1</th>\n",
       "      <td>java</td>\n",
       "      <td>3</td>\n",
       "      <td>112</td>\n",
       "      <td>480</td>\n",
       "      <td>125</td>\n",
       "      <td>252</td>\n",
       "      <td>28</td>\n",
       "    </tr>\n",
       "    <tr>\n",
       "      <th>2</th>\n",
       "      <td>javascript</td>\n",
       "      <td>56</td>\n",
       "      <td>22</td>\n",
       "      <td>314</td>\n",
       "      <td>222</td>\n",
       "      <td>313</td>\n",
       "      <td>73</td>\n",
       "    </tr>\n",
       "    <tr>\n",
       "      <th>3</th>\n",
       "      <td>php</td>\n",
       "      <td>7</td>\n",
       "      <td>103</td>\n",
       "      <td>297</td>\n",
       "      <td>257</td>\n",
       "      <td>308</td>\n",
       "      <td>28</td>\n",
       "    </tr>\n",
       "    <tr>\n",
       "      <th>4</th>\n",
       "      <td>python</td>\n",
       "      <td>6</td>\n",
       "      <td>1</td>\n",
       "      <td>15</td>\n",
       "      <td>24</td>\n",
       "      <td>657</td>\n",
       "      <td>297</td>\n",
       "    </tr>\n",
       "    <tr>\n",
       "      <th>5</th>\n",
       "      <td>ruby</td>\n",
       "      <td>13</td>\n",
       "      <td>2</td>\n",
       "      <td>26</td>\n",
       "      <td>44</td>\n",
       "      <td>267</td>\n",
       "      <td>648</td>\n",
       "    </tr>\n",
       "  </tbody>\n",
       "</table>\n",
       "</div>"
      ],
      "text/plain": [
       "       real_y  go  java  javascript  php  python  ruby\n",
       "0          go  69     7         153  157     315   299\n",
       "1        java   3   112         480  125     252    28\n",
       "2  javascript  56    22         314  222     313    73\n",
       "3         php   7   103         297  257     308    28\n",
       "4      python   6     1          15   24     657   297\n",
       "5        ruby  13     2          26   44     267   648"
      ]
     },
     "execution_count": 19,
     "metadata": {},
     "output_type": "execute_result"
    }
   ],
   "source": [
    "print('Performance on full function files using string search')\n",
    "get_performance(count_keyword_occurence, 'sample_data/test')"
   ]
  },
  {
   "cell_type": "code",
   "execution_count": 11,
   "metadata": {},
   "outputs": [
    {
     "name": "stdout",
     "output_type": "stream",
     "text": [
      "Performance on augmented function files using string search\n",
      "go\n",
      ".DS_Store\n",
      "python\n",
      "java\n",
      "php\n",
      "javascript\n",
      "ruby\n"
     ]
    },
    {
     "data": {
      "text/plain": [
       "(       real_y   go  java  javascript  php  python  ruby\n",
       " 0          go  248    29         136  190     184   213\n",
       " 1        java  134   170         296  139     225    36\n",
       " 2  javascript  215    70         206  158     274    77\n",
       " 3         php  137   186         163  190     290    34\n",
       " 4      python   90     7          54   68     559   222\n",
       " 5        ruby  112    31          69  109     239   440,\n",
       " 0.30216666666666664,\n",
       " array([0.248, 0.17 , 0.206, 0.19 , 0.559, 0.44 ]))"
      ]
     },
     "execution_count": 11,
     "metadata": {},
     "output_type": "execute_result"
    }
   ],
   "source": [
    "print('Performance on augmented function files using string search')\n",
    "get_performance(count_keyword_occurence, 'sample_data_augmented/test')"
   ]
  },
  {
   "cell_type": "code",
   "execution_count": 20,
   "metadata": {},
   "outputs": [
    {
     "name": "stdout",
     "output_type": "stream",
     "text": [
      "Performance on full function files using regex search\n",
      "go\n",
      "python\n",
      "java\n",
      "php\n",
      "javascript\n",
      "ruby\n"
     ]
    },
    {
     "data": {
      "text/html": [
       "<div>\n",
       "<style scoped>\n",
       "    .dataframe tbody tr th:only-of-type {\n",
       "        vertical-align: middle;\n",
       "    }\n",
       "\n",
       "    .dataframe tbody tr th {\n",
       "        vertical-align: top;\n",
       "    }\n",
       "\n",
       "    .dataframe thead th {\n",
       "        text-align: right;\n",
       "    }\n",
       "</style>\n",
       "<table border=\"1\" class=\"dataframe\">\n",
       "  <thead>\n",
       "    <tr style=\"text-align: right;\">\n",
       "      <th></th>\n",
       "      <th>real_y</th>\n",
       "      <th>go</th>\n",
       "      <th>java</th>\n",
       "      <th>javascript</th>\n",
       "      <th>php</th>\n",
       "      <th>python</th>\n",
       "      <th>ruby</th>\n",
       "    </tr>\n",
       "  </thead>\n",
       "  <tbody>\n",
       "    <tr>\n",
       "      <th>0</th>\n",
       "      <td>go</td>\n",
       "      <td>681</td>\n",
       "      <td>33</td>\n",
       "      <td>26</td>\n",
       "      <td>14</td>\n",
       "      <td>18</td>\n",
       "      <td>228</td>\n",
       "    </tr>\n",
       "    <tr>\n",
       "      <th>1</th>\n",
       "      <td>java</td>\n",
       "      <td>5</td>\n",
       "      <td>913</td>\n",
       "      <td>39</td>\n",
       "      <td>31</td>\n",
       "      <td>8</td>\n",
       "      <td>4</td>\n",
       "    </tr>\n",
       "    <tr>\n",
       "      <th>2</th>\n",
       "      <td>javascript</td>\n",
       "      <td>59</td>\n",
       "      <td>113</td>\n",
       "      <td>688</td>\n",
       "      <td>97</td>\n",
       "      <td>19</td>\n",
       "      <td>24</td>\n",
       "    </tr>\n",
       "    <tr>\n",
       "      <th>3</th>\n",
       "      <td>php</td>\n",
       "      <td>4</td>\n",
       "      <td>363</td>\n",
       "      <td>411</td>\n",
       "      <td>205</td>\n",
       "      <td>3</td>\n",
       "      <td>14</td>\n",
       "    </tr>\n",
       "    <tr>\n",
       "      <th>4</th>\n",
       "      <td>python</td>\n",
       "      <td>20</td>\n",
       "      <td>13</td>\n",
       "      <td>21</td>\n",
       "      <td>30</td>\n",
       "      <td>469</td>\n",
       "      <td>447</td>\n",
       "    </tr>\n",
       "    <tr>\n",
       "      <th>5</th>\n",
       "      <td>ruby</td>\n",
       "      <td>9</td>\n",
       "      <td>5</td>\n",
       "      <td>9</td>\n",
       "      <td>15</td>\n",
       "      <td>23</td>\n",
       "      <td>939</td>\n",
       "    </tr>\n",
       "  </tbody>\n",
       "</table>\n",
       "</div>"
      ],
      "text/plain": [
       "       real_y   go  java  javascript  php  python  ruby\n",
       "0          go  681    33          26   14      18   228\n",
       "1        java    5   913          39   31       8     4\n",
       "2  javascript   59   113         688   97      19    24\n",
       "3         php    4   363         411  205       3    14\n",
       "4      python   20    13          21   30     469   447\n",
       "5        ruby    9     5           9   15      23   939"
      ]
     },
     "execution_count": 20,
     "metadata": {},
     "output_type": "execute_result"
    }
   ],
   "source": [
    "print('Performance on full function files using regex search')\n",
    "get_performance(count_keyword_occurence_regex, 'sample_data/test')"
   ]
  },
  {
   "cell_type": "code",
   "execution_count": 17,
   "metadata": {},
   "outputs": [
    {
     "name": "stdout",
     "output_type": "stream",
     "text": [
      "Performance on augmented function files using regex search\n",
      "go\n",
      ".DS_Store\n",
      "python\n",
      "java\n",
      "php\n",
      "javascript\n",
      "ruby\n"
     ]
    },
    {
     "data": {
      "text/plain": [
       "(       real_y   go  java  javascript  php  python  ruby\n",
       " 0          go  695    56          23    7      25   194\n",
       " 1        java  243   669          23   41      12    12\n",
       " 2  javascript  368   221         294   59      30    28\n",
       " 3         php  206   492         123  148       8    23\n",
       " 4      python  207    38          71   66     352   266\n",
       " 5        ruby  217    99          15   47      83   539,\n",
       " 0.4495,\n",
       " array([0.695, 0.669, 0.294, 0.148, 0.352, 0.539]))"
      ]
     },
     "execution_count": 17,
     "metadata": {},
     "output_type": "execute_result"
    }
   ],
   "source": [
    "print('Performance on augmented function files using regex search')\n",
    "get_performance(count_keyword_occurence_regex, 'sample_data_augmented/test')"
   ]
  },
  {
   "cell_type": "code",
   "execution_count": null,
   "metadata": {},
   "outputs": [],
   "source": []
  }
 ],
 "metadata": {
  "kernelspec": {
   "display_name": "Python 3",
   "language": "python",
   "name": "python3"
  },
  "language_info": {
   "codemirror_mode": {
    "name": "ipython",
    "version": 3
   },
   "file_extension": ".py",
   "mimetype": "text/x-python",
   "name": "python",
   "nbconvert_exporter": "python",
   "pygments_lexer": "ipython3",
   "version": "3.6.10"
  }
 },
 "nbformat": 4,
 "nbformat_minor": 4
}
